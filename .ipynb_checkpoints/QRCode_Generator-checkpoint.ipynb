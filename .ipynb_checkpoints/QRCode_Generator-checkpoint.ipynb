{
 "cells": [
  {
   "cell_type": "code",
   "execution_count": 1,
   "metadata": {},
   "outputs": [],
   "source": [
    "import pyqrcode as qr\n",
    "import png\n",
    "import cv2"
   ]
  },
  {
   "cell_type": "code",
   "execution_count": 2,
   "metadata": {},
   "outputs": [],
   "source": [
    "def User_Input():\n",
    "    #To take input from the user on the basis of which QRCode will be created\n",
    "    a=input(\"Enter your name : \")\n",
    "    b=input(\"Enter your phone no. : \")\n",
    "    c=input(\"Enter your number plate no. : \")\n",
    "    s=a+\" \"+b+\" \"+c\n",
    "    return s"
   ]
  },
  {
   "cell_type": "code",
   "execution_count": 3,
   "metadata": {},
   "outputs": [
    {
     "name": "stdout",
     "output_type": "stream",
     "text": [
      "Enter your name : Sourav Jain\n",
      "Enter your phone no. : 1234243123\n",
      "Enter your number plate no. : OD12AX2432\n"
     ]
    }
   ],
   "source": [
    "s=User_Input()"
   ]
  },
  {
   "cell_type": "code",
   "execution_count": 4,
   "metadata": {},
   "outputs": [],
   "source": [
    "#To create the QRCode by passing the string\n",
    "img=qr.create(s)\n",
    "img.png(\"QR.png\", scale=6, module_color=[0, 0, 0, 128], background=[0xff, 0xff, 0xff])"
   ]
  },
  {
   "cell_type": "code",
   "execution_count": 5,
   "metadata": {},
   "outputs": [
    {
     "name": "stdout",
     "output_type": "stream",
     "text": [
      "QRCode(content=b'Sourav Jain 1234243123 OD12AX2432', error='H', version=4, mode='binary')\n"
     ]
    }
   ],
   "source": [
    "print(img)"
   ]
  },
  {
   "cell_type": "code",
   "execution_count": 7,
   "metadata": {},
   "outputs": [
    {
     "data": {
      "image/png": "[encoded data removed]",
      "text/plain": [
       "<Figure size 432x288 with 1 Axes>"
      ]
     },
     "metadata": {},
     "output_type": "display_data"
    }
   ],
   "source": [
    "import matplotlib.pyplot as plt\n",
    "import matplotlib.image as mpimg\n",
    "im=mpimg.imread(\"./QR.png\")\n",
    "imgplot = plt.imshow(cv2.cvtColor(im,cv2.COLOR_BGR2RGB))\n",
    "plt.show()"
   ]
  },
  {
   "cell_type": "code",
   "execution_count": 9,
   "metadata": {},
   "outputs": [],
   "source": [
    "def decoder(path):\n",
    "    #Function to decode the QRCode\n",
    "    qrCodeDetector = cv2.QRCodeDetector()\n",
    "    image=cv2.imread(\"./QR.png\")\n",
    "    decodedText, points, _ = qrCodeDetector.detectAndDecode(image)\n",
    "    print(decodedText)"
   ]
  },
  {
   "cell_type": "code",
   "execution_count": 10,
   "metadata": {},
   "outputs": [
    {
     "name": "stdout",
     "output_type": "stream",
     "text": [
      "Sourav Jain 1234243123 OD12AX2432\n"
     ]
    }
   ],
   "source": [
    "decoder(\"./QR.png\")"
   ]
  }
 ],
 "metadata": {
  "kernelspec": {
   "display_name": "Python 3",
   "language": "python",
   "name": "python3"
  },
  "language_info": {
   "codemirror_mode": {
    "name": "ipython",
    "version": 3
   },
   "file_extension": ".py",
   "mimetype": "text/x-python",
   "name": "python",
   "nbconvert_exporter": "python",
   "pygments_lexer": "ipython3",
   "version": "3.6.5"
  }
 },
 "nbformat": 4,
 "nbformat_minor": 2
}
