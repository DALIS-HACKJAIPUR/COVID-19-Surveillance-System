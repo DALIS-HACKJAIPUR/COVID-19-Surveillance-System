{
 "cells": [
  {
   "cell_type": "code",
   "execution_count": 8,
   "metadata": {},
   "outputs": [],
   "source": [
    "#Library Imports\n",
    "from keras.models import Sequential\n",
    "from keras.layers import Convolution2D\n",
    "from keras.layers import MaxPooling2D\n",
    "from keras.layers import Flatten\n",
    "from keras.layers import Dense, Dropout, BatchNormalization"
   ]
  },
  {
   "cell_type": "code",
   "execution_count": 9,
   "metadata": {},
   "outputs": [],
   "source": [
    "#Initialising CNN\n",
    "classifier = Sequential()\n",
    "\n",
    "#creating Convolution layer\n",
    "classifier.add(Convolution2D(filters=32, kernel_size=[3,3], activation='selu', input_shape=(64, 64, 3)))\n",
    "classifier.add(MaxPooling2D(pool_size=(2,2)))\n",
    "classifier.add(Dropout(0.2))\n",
    "classifier.add(Convolution2D(filters=64, kernel_size=[3,3], activation='selu'))\n",
    "classifier.add(MaxPooling2D(pool_size=(2,2)))\n",
    "classifier.add(Dropout(0.2))\n",
    "classifier.add(Convolution2D(filters=128, kernel_size=[3,3], activation='selu'))\n",
    "classifier.add(MaxPooling2D(pool_size=(2,2)))\n",
    "classifier.add(Dropout(0.2))\n",
    "classifier.add(Flatten())\n",
    "\n",
    "#Fully connecting layer\n",
    "classifier.add(Dense(units=256, activation='selu'))\n",
    "\n",
    "#Output Layer\n",
    "classifier.add(Dense(units=1, activation='sigmoid'))"
   ]
  },
  {
   "cell_type": "code",
   "execution_count": 10,
   "metadata": {},
   "outputs": [
    {
     "name": "stdout",
     "output_type": "stream",
     "text": [
      "Found 1631 images belonging to 2 classes.\n",
      "Found 472 images belonging to 2 classes.\n",
      "Epoch 1/7\n",
      "  14/1631 [..............................] - ETA: 9:18 - loss: 3.4013 - accuracy: 0.5123\n",
      "1631/1631 [==============================] - 504s 309ms/step - loss: 0.2660 - accuracy: 0.8979 - val_loss: 0.2993 - val_accuracy: 0.8794\n",
      "Epoch 2/7\n",
      "1631/1631 [==============================] - 502s 308ms/step - loss: 0.1239 - accuracy: 0.9516 - val_loss: 0.0111 - val_accuracy: 0.9339\n",
      "Epoch 3/7\n",
      "1631/1631 [==============================] - 503s 308ms/step - loss: 0.0717 - accuracy: 0.9750 - val_loss: 0.0037 - val_accuracy: 0.9387\n",
      "Epoch 4/7\n",
      "1631/1631 [==============================] - 505s 309ms/step - loss: 0.0551 - accuracy: 0.9806 - val_loss: 0.0152 - val_accuracy: 0.9425\n",
      "Epoch 5/7\n",
      "1631/1631 [==============================] - 503s 308ms/step - loss: 0.0440 - accuracy: 0.9843 - val_loss: 0.7803 - val_accuracy: 0.9388\n",
      "Epoch 6/7\n",
      "1631/1631 [==============================] - 504s 309ms/step - loss: 0.0347 - accuracy: 0.9888 - val_loss: 0.6151 - val_accuracy: 0.9531\n",
      "Epoch 7/7\n",
      "1631/1631 [==============================] - 503s 309ms/step - loss: 0.0323 - accuracy: 0.9899 - val_loss: 3.0086e-04 - val_accuracy: 0.9582\n",
      "<keras.callbacks.callbacks.History at 0x7f3ef5dedd68>\n"
     ]
    }
   ],
   "source": [
    "#Training on the Dataset!\n",
    "from keras.preprocessing.image import ImageDataGenerator\n",
    "\n",
    "train_datagen = ImageDataGenerator(\n",
    "        rescale=1./255,\n",
    "        shear_range=0.2,\n",
    "        zoom_range=0.2,\n",
    "        rotation_range = 45,\n",
    "        horizontal_flip=True)\n",
    "\n",
    "test_datagen = ImageDataGenerator(rescale=1./255) #pixel values b/w 0-1\n",
    "\n",
    "training_set = train_datagen.flow_from_directory(\n",
    "          'dataset/training_set',\n",
    "          target_size=(64, 64),\n",
    "          batch_size=32,\n",
    "          class_mode='binary')\n",
    "\n",
    "test_set = test_datagen.flow_from_directory(\n",
    "        'dataset/test_set',\n",
    "        target_size=(64, 64),\n",
    "        batch_size=16,\n",
    "        class_mode='binary')\n",
    "\n",
    "classifier.fit_generator(\n",
    "        training_set,\n",
    "        steps_per_epoch=1631, #train set size\n",
    "        epochs=7,\n",
    "        validation_data=test_set,\n",
    "        validation_steps=472) #test set size"
   ]
  },
  {
   "cell_type": "code",
   "execution_count": 11,
   "metadata": {},
   "outputs": [],
   "source": [
    "from sklearn.externals import joblib"
   ]
  },
  {
   "cell_type": "code",
   "execution_count": 12,
   "metadata": {},
   "outputs": [
    {
     "name": "stdout",
     "output_type": "stream",
     "text": [
      "{'with_mask': 0, 'without_mask': 1}\n"
     ]
    }
   ],
   "source": [
    "file = 'loaded_model_updated_dataset_3.pkl'\n",
    "joblib.dump(classifier, file)\n",
    "#Checking which label belongs to which class\n",
    "training_set.class_indices"
   ]
  }
 ],
 "metadata": {
  "kernelspec": {
   "display_name": "Python 3",
   "language": "python",
   "name": "python3"
  },
  "language_info": {
   "codemirror_mode": {
    "name": "ipython",
    "version": 3
   },
   "file_extension": ".py",
   "mimetype": "text/x-python",
   "name": "python",
   "nbconvert_exporter": "python",
   "pygments_lexer": "ipython3",
   "version": "3.6.5"
  }
 },
 "nbformat": 4,
 "nbformat_minor": 2
}
