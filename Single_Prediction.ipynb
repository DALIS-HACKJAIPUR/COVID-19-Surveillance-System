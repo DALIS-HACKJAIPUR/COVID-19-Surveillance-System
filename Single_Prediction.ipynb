{
  "nbformat": 4,
  "nbformat_minor": 0,
  "metadata": {
    "colab": {
      "name": "Single_Prediction.ipynb",
      "provenance": []
    },
    "kernelspec": {
      "name": "python3",
      "display_name": "Python 3"
    }
  },
  "cells": [
    {
      "cell_type": "code",
      "metadata": {
        "id": "Tq5PLgDE88Xe",
        "colab_type": "code",
        "colab": {
          "base_uri": "https://localhost:8080/",
          "height": 70
        },
        "outputId": "f7fbbef4-0f8a-4da1-9792-c88e23f0e459"
      },
      "source": [
        "#importing necessary libraries\n",
        "\n",
        "from tensorflow.keras.applications.mobilenet_v2 import preprocess_input\n",
        "from tensorflow.keras.preprocessing.image import img_to_array\n",
        "from tensorflow.keras.models import load_model\n",
        "import numpy as np\n",
        "import argparse\n",
        "import cv2\n",
        "import os\n",
        "from sklearn.externals import joblib\n",
        "from google.colab.patches import cv2_imshow"
      ],
      "execution_count": 1,
      "outputs": [
        {
          "output_type": "stream",
          "text": [
            "/usr/local/lib/python3.6/dist-packages/sklearn/externals/joblib/__init__.py:15: FutureWarning: sklearn.externals.joblib is deprecated in 0.21 and will be removed in 0.23. Please import this functionality directly from joblib, which can be installed with: pip install joblib. If this warning is raised when loading pickled models, you may need to re-serialize those models with scikit-learn 0.21+.\n",
            "  warnings.warn(msg, category=FutureWarning)\n"
          ],
          "name": "stderr"
        }
      ]
    },
    {
      "cell_type": "code",
      "metadata": {
        "id": "b6WuUxn0Arck",
        "colab_type": "code",
        "colab": {
          "base_uri": "https://localhost:8080/",
          "height": 67
        },
        "outputId": "1439d245-2a28-48e7-c5c5-0a8ced1dcea0"
      },
      "source": [
        "# load our *serialized face detector model* from disk\n",
        "print(\"[INFO] loading face detector model...\")\n",
        "net = cv2.dnn.readNet(\"deploy.prototxt\", \"res10_300x300_ssd_iter_140000.caffemodel\")\n",
        "#The structure of the neural network is stored in deploy.prototxt file\n",
        "#The weights of the layers of the neural network are stored in res10_300x300_ssd_iter_140000.caffemodel file\n",
        "\n",
        "# load the face mask detector model (*TRAINED PREVIOUSLY*) from disk\n",
        "print(\"[INFO] loading face mask detector model...\")\n",
        "model = joblib.load('loaded_model_updated_dataset_3.pkl')\n"
      ],
      "execution_count": 2,
      "outputs": [
        {
          "output_type": "stream",
          "text": [
            "[INFO] loading face detector model...\n",
            "[INFO] loading face mask detector model...\n"
          ],
          "name": "stdout"
        },
        {
          "output_type": "stream",
          "text": [
            "Using TensorFlow backend.\n"
          ],
          "name": "stderr"
        }
      ]
    },
    {
      "cell_type": "code",
      "metadata": {
        "id": "xbbmBll7BFFi",
        "colab_type": "code",
        "colab": {}
      },
      "source": [
        ""
      ],
      "execution_count": null,
      "outputs": []
    }
  ]
}